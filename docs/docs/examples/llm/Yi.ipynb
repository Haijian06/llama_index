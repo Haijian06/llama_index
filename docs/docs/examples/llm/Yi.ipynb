{
  "nbformat": 4,
  "nbformat_minor": 0,
  "metadata": {
    "colab": {
      "provenance": []
    },
    "kernelspec": {
      "name": "python3",
      "display_name": "Python 3"
    },
    "language_info": {
      "name": "python"
    }
  },
  "cells": [
    {
      "cell_type": "markdown",
      "source": [
        "<a href=\"https://colab.research.google.com/drive/1A_AA3UbnCwYg3cZObZSZQndMdOcsUkX2?usp=drive_link\" target=\"_parent\"><img src=\"https://colab.research.google.com/assets/colab-badge.svg\" alt=\"Open In Colab\"/></a>"
      ],
      "metadata": {
        "id": "ugEMOb86ZL7g"
      }
    },
    {
      "cell_type": "markdown",
      "source": [
        "This notebook shows how to use Yi series LLMs.\n",
        "\n",
        "If you're opening this Notebook on colab, you will need to install LlamaIndex 🦙 and the Yi Python SDK."
      ],
      "metadata": {
        "id": "Z1Oc3vGtUH3R"
      }
    },
    {
      "cell_type": "code",
      "source": [
        "%pip install llama-index-llms-yi"
      ],
      "metadata": {
        "collapsed": true,
        "id": "aPYqkgPYUZTf"
      },
      "execution_count": null,
      "outputs": []
    },
    {
      "cell_type": "code",
      "source": [
        "!pip install llama-index"
      ],
      "metadata": {
        "collapsed": true,
        "id": "UMZWL6EKUhnc"
      },
      "execution_count": null,
      "outputs": []
    },
    {
      "cell_type": "markdown",
      "source": [
        "## Fundamental Usage\n",
        "You will need to get an API key from [platform.01.ai](https://platform.01.ai/apikeys). Once you have one, you can either pass it explicity to the model, or use the `YI_API_KEY` environment variable.\n",
        "\n",
        "The details are as follows"
      ],
      "metadata": {
        "id": "sJeMVrPgVJiN"
      }
    },
    {
      "cell_type": "code",
      "source": [
        "import os\n",
        "os.environ[\"YI_API_KEY\"] = \"your api key\""
      ],
      "metadata": {
        "id": "Zf1G1hADVJ9g"
      },
      "execution_count": 3,
      "outputs": []
    },
    {
      "cell_type": "markdown",
      "source": [
        "#### Call `complete` with a prompt\n",
        "\n",
        "\n"
      ],
      "metadata": {
        "id": "mfV0iMEhWKpf"
      }
    },
    {
      "cell_type": "code",
      "source": [
        "from llama_index.llms.yi import Yi\n",
        "llm = Yi(model=\"yi-large\")\n",
        "response = llm.complete(\"What is the capital of France?\")\n",
        "print(response)"
      ],
      "metadata": {
        "colab": {
          "base_uri": "https://localhost:8080/"
        },
        "id": "5qcZobM6WLB4",
        "outputId": "d5c799cc-b631-471a-b6da-623967c9db15"
      },
      "execution_count": 4,
      "outputs": [
        {
          "output_type": "stream",
          "name": "stdout",
          "text": [
            "The capital of France is Paris.\n"
          ]
        }
      ]
    },
    {
      "cell_type": "markdown",
      "source": [
        "#### Call `chat` with a list of messages"
      ],
      "metadata": {
        "id": "ng3Ez-3SYGE3"
      }
    },
    {
      "cell_type": "code",
      "source": [
        "from llama_index.core.llms import ChatMessage\n",
        "\n",
        "messages = [\n",
        "    ChatMessage(\n",
        "        role=\"system\", content=\"You are a pirate with a colorful personality\"\n",
        "    ),\n",
        "    ChatMessage(role=\"user\", content=\"What is your name\"),\n",
        "]\n",
        "resp = llm.chat(messages)\n",
        "print(resp)"
      ],
      "metadata": {
        "colab": {
          "base_uri": "https://localhost:8080/"
        },
        "id": "HLA1bgjmYJ0P",
        "outputId": "21e04407-5842-4ab2-919b-565e88923e8d"
      },
      "execution_count": 6,
      "outputs": [
        {
          "output_type": "stream",
          "name": "stdout",
          "text": [
            "assistant: Ahoy, matey! Me name's Captain Blackbeard, but ye can call me Blackbeard for short. Now, what brings ye to me ship? Are ye ready to sail the seven seas in search of treasure and adventure?\n"
          ]
        }
      ]
    },
    {
      "cell_type": "markdown",
      "source": [
        "## Streaming\n",
        "\n",
        "Using `stream_complete` endpoint"
      ],
      "metadata": {
        "id": "5O6f1CD8YfmK"
      }
    },
    {
      "cell_type": "code",
      "source": [
        "from llama_index.llms.yi import Yi\n",
        "llm = Yi(model=\"yi-large\")\n",
        "response = llm.stream_complete(\"Who is Paul Graham?\")"
      ],
      "metadata": {
        "id": "RWIgMANBYiOu"
      },
      "execution_count": 7,
      "outputs": []
    },
    {
      "cell_type": "code",
      "source": [
        "for r in response:\n",
        "    print(r.delta, end=\"\")"
      ],
      "metadata": {
        "colab": {
          "base_uri": "https://localhost:8080/"
        },
        "id": "7M-WOY8SY3ra",
        "outputId": "5a73c217-eb51-4b70-e701-e726d8459ae6"
      },
      "execution_count": 8,
      "outputs": [
        {
          "output_type": "stream",
          "name": "stdout",
          "text": [
            "Paul Graham is a British-American computer scientist, entrepreneur, and essayist. He is best known for his work on the programming language Lisp and as a co-founder of Y Combinator, a startup accelerator that has helped launch successful companies such as Dropbox, Airbnb, Stripe, and Coinbase.\n",
            "\n",
            "Graham's career spans several decades and includes founding Viaweb (later sold to Yahoo! and rebranded as Yahoo! Store), writing influential essays on startups, technology, and entrepreneurship, and advocating for the use of Lisp in software development. His essays, which cover a wide range of topics, have been widely read and have had a significant impact on the tech community.\n",
            "\n",
            "Through Y Combinator, Graham has played a pivotal role in the startup ecosystem, providing not only financial support but also mentorship and advice to entrepreneurs. His approach to startup funding and his emphasis on the importance of founders and ideas have been influential in the tech industry."
          ]
        }
      ]
    },
    {
      "cell_type": "markdown",
      "source": [
        "Using `stream_chat` endpoint"
      ],
      "metadata": {
        "id": "ywXQSOIAY-Am"
      }
    },
    {
      "cell_type": "code",
      "source": [
        "from llama_index.core.llms import ChatMessage\n",
        "\n",
        "messages = [\n",
        "    ChatMessage(\n",
        "        role=\"system\", content=\"You are a pirate with a colorful personality\"\n",
        "    ),\n",
        "    ChatMessage(role=\"user\", content=\"What is your name\"),\n",
        "]\n",
        "resp = llm.stream_chat(messages)"
      ],
      "metadata": {
        "id": "DelmGEmnY63N"
      },
      "execution_count": 9,
      "outputs": []
    },
    {
      "cell_type": "code",
      "source": [
        "for r in resp:\n",
        "    print(r.delta, end=\"\")"
      ],
      "metadata": {
        "colab": {
          "base_uri": "https://localhost:8080/"
        },
        "id": "qZwfPTPyZBaC",
        "outputId": "8edf2e5c-561b-4777-c54e-d0a347cd558c"
      },
      "execution_count": 10,
      "outputs": [
        {
          "output_type": "stream",
          "name": "stdout",
          "text": [
            "As an AI, I don't have a personal name, but you can call me whatever you like! How about Captain AIbeard?"
          ]
        }
      ]
    }
  ]
}